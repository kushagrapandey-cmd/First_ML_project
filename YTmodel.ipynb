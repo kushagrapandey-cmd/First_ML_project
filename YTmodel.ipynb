{
 "cells": [
  {
   "cell_type": "code",
   "execution_count": 1,
   "id": "45448ad3",
   "metadata": {},
   "outputs": [],
   "source": [
    "import pandas as pd \n",
    "import numpy as np\n"
   ]
  },
  {
   "cell_type": "code",
   "execution_count": 2,
   "id": "02e33c06",
   "metadata": {},
   "outputs": [],
   "source": [
    "data=pd.read_csv(r\"C:\\Users\\adesh\\OneDrive\\Desktop\\datasetytguide\\ytdata2.csv\",encoding_errors='ignore')\n"
   ]
  },
  {
   "cell_type": "markdown",
   "id": "1cceb8ba",
   "metadata": {},
   "source": [
    "# Data Preprocessing\n"
   ]
  },
  {
   "cell_type": "code",
   "execution_count": 3,
   "id": "a2c5dd87",
   "metadata": {},
   "outputs": [],
   "source": [
    "data=data.rename(columns={'Unnamed: 0':'index'})\n"
   ]
  },
  {
   "cell_type": "code",
   "execution_count": 4,
   "id": "7ec78c59",
   "metadata": {},
   "outputs": [
    {
     "name": "stdout",
     "output_type": "stream",
     "text": [
      "Requirement already satisfied: nltk in c:\\users\\adesh\\anaconda3\\lib\\site-packages (3.7)Note: you may need to restart the kernel to use updated packages.\n",
      "Requirement already satisfied: joblib in c:\\users\\adesh\\anaconda3\\lib\\site-packages (from nltk) (1.1.0)\n",
      "Requirement already satisfied: tqdm in c:\\users\\adesh\\anaconda3\\lib\\site-packages (from nltk) (4.64.0)\n",
      "Requirement already satisfied: regex>=2021.8.3 in c:\\users\\adesh\\anaconda3\\lib\\site-packages (from nltk) (2022.3.15)\n",
      "Requirement already satisfied: click in c:\\users\\adesh\\anaconda3\\lib\\site-packages (from nltk) (8.0.4)\n",
      "Requirement already satisfied: colorama in c:\\users\\adesh\\anaconda3\\lib\\site-packages (from click->nltk) (0.4.4)\n",
      "\n"
     ]
    }
   ],
   "source": [
    "pip install nltk"
   ]
  },
  {
   "cell_type": "code",
   "execution_count": 5,
   "id": "e6e7bd8c",
   "metadata": {},
   "outputs": [],
   "source": [
    "import nltk\n",
    "from nltk.stem.porter import PorterStemmer\n",
    "ps=PorterStemmer()"
   ]
  },
  {
   "cell_type": "code",
   "execution_count": 6,
   "id": "e2ef1542",
   "metadata": {},
   "outputs": [],
   "source": [
    "# For removing same words like basic and basics etc...\n",
    "def stem(text):\n",
    "    y=[]\n",
    "    for i in text.split():\n",
    "        y.append(ps.stem(i))\n",
    "    return \" \".join(y)"
   ]
  },
  {
   "cell_type": "code",
   "execution_count": 7,
   "id": "9193db93",
   "metadata": {},
   "outputs": [],
   "source": [
    " data['title']=data['title'].apply(stem)"
   ]
  },
  {
   "cell_type": "code",
   "execution_count": 8,
   "id": "fd2026ba",
   "metadata": {},
   "outputs": [
    {
     "data": {
      "text/html": [
       "<div>\n",
       "<style scoped>\n",
       "    .dataframe tbody tr th:only-of-type {\n",
       "        vertical-align: middle;\n",
       "    }\n",
       "\n",
       "    .dataframe tbody tr th {\n",
       "        vertical-align: top;\n",
       "    }\n",
       "\n",
       "    .dataframe thead th {\n",
       "        text-align: right;\n",
       "    }\n",
       "</style>\n",
       "<table border=\"1\" class=\"dataframe\">\n",
       "  <thead>\n",
       "    <tr style=\"text-align: right;\">\n",
       "      <th></th>\n",
       "      <th>index</th>\n",
       "      <th>publishedAt</th>\n",
       "      <th>channelId</th>\n",
       "      <th>title</th>\n",
       "      <th>description</th>\n",
       "      <th>thumbnails</th>\n",
       "      <th>channelTitle</th>\n",
       "      <th>Unnamed: 7</th>\n",
       "      <th>OnSearching</th>\n",
       "      <th>Unnamed: 9</th>\n",
       "      <th>videoId</th>\n",
       "      <th>Unnamed: 11</th>\n",
       "      <th>thumb</th>\n",
       "    </tr>\n",
       "  </thead>\n",
       "  <tbody>\n",
       "    <tr>\n",
       "      <th>0</th>\n",
       "      <td>0</td>\n",
       "      <td>2022-10-10T16:48:30Z</td>\n",
       "      <td>UCLuBF4Xr1-BIpcpFFm7zp7w</td>\n",
       "      <td>6 month current affair | import question | kum...</td>\n",
       "      <td>CurrentAffairs #generalknowledge #kumargauravs...</td>\n",
       "      <td>NaN</td>\n",
       "      <td>UTKARSH CLASSES JODHPUR</td>\n",
       "      <td>NaN</td>\n",
       "      <td>Current Affairs</td>\n",
       "      <td>NaN</td>\n",
       "      <td>himPDfPrIXY</td>\n",
       "      <td>NaN</td>\n",
       "      <td>https://i.ytimg.com/vi/himPDfPrIXY/mqdefault.jpg</td>\n",
       "    </tr>\n",
       "  </tbody>\n",
       "</table>\n",
       "</div>"
      ],
      "text/plain": [
       "   index           publishedAt                 channelId  \\\n",
       "0      0  2022-10-10T16:48:30Z  UCLuBF4Xr1-BIpcpFFm7zp7w   \n",
       "\n",
       "                                               title  \\\n",
       "0  6 month current affair | import question | kum...   \n",
       "\n",
       "                                         description thumbnails  \\\n",
       "0  CurrentAffairs #generalknowledge #kumargauravs...        NaN   \n",
       "\n",
       "              channelTitle  Unnamed: 7      OnSearching  Unnamed: 9  \\\n",
       "0  UTKARSH CLASSES JODHPUR         NaN  Current Affairs         NaN   \n",
       "\n",
       "       videoId  Unnamed: 11                                             thumb  \n",
       "0  himPDfPrIXY          NaN  https://i.ytimg.com/vi/himPDfPrIXY/mqdefault.jpg  "
      ]
     },
     "execution_count": 8,
     "metadata": {},
     "output_type": "execute_result"
    }
   ],
   "source": [
    "data.head(1)"
   ]
  },
  {
   "cell_type": "code",
   "execution_count": 9,
   "id": "6a63190e",
   "metadata": {},
   "outputs": [],
   "source": [
    "data.drop(labels=[\"Unnamed: 7\",\"Unnamed: 9\",\"description\",\"Unnamed: 11\",\"thumbnails\"],axis=1,inplace=True)"
   ]
  },
  {
   "cell_type": "code",
   "execution_count": 10,
   "id": "0a6387af",
   "metadata": {},
   "outputs": [
    {
     "data": {
      "text/html": [
       "<div>\n",
       "<style scoped>\n",
       "    .dataframe tbody tr th:only-of-type {\n",
       "        vertical-align: middle;\n",
       "    }\n",
       "\n",
       "    .dataframe tbody tr th {\n",
       "        vertical-align: top;\n",
       "    }\n",
       "\n",
       "    .dataframe thead th {\n",
       "        text-align: right;\n",
       "    }\n",
       "</style>\n",
       "<table border=\"1\" class=\"dataframe\">\n",
       "  <thead>\n",
       "    <tr style=\"text-align: right;\">\n",
       "      <th></th>\n",
       "      <th>index</th>\n",
       "      <th>publishedAt</th>\n",
       "      <th>channelId</th>\n",
       "      <th>title</th>\n",
       "      <th>channelTitle</th>\n",
       "      <th>OnSearching</th>\n",
       "      <th>videoId</th>\n",
       "      <th>thumb</th>\n",
       "    </tr>\n",
       "  </thead>\n",
       "  <tbody>\n",
       "    <tr>\n",
       "      <th>0</th>\n",
       "      <td>0</td>\n",
       "      <td>2022-10-10T16:48:30Z</td>\n",
       "      <td>UCLuBF4Xr1-BIpcpFFm7zp7w</td>\n",
       "      <td>6 month current affair | import question | kum...</td>\n",
       "      <td>UTKARSH CLASSES JODHPUR</td>\n",
       "      <td>Current Affairs</td>\n",
       "      <td>himPDfPrIXY</td>\n",
       "      <td>https://i.ytimg.com/vi/himPDfPrIXY/mqdefault.jpg</td>\n",
       "    </tr>\n",
       "  </tbody>\n",
       "</table>\n",
       "</div>"
      ],
      "text/plain": [
       "   index           publishedAt                 channelId  \\\n",
       "0      0  2022-10-10T16:48:30Z  UCLuBF4Xr1-BIpcpFFm7zp7w   \n",
       "\n",
       "                                               title             channelTitle  \\\n",
       "0  6 month current affair | import question | kum...  UTKARSH CLASSES JODHPUR   \n",
       "\n",
       "       OnSearching      videoId  \\\n",
       "0  Current Affairs  himPDfPrIXY   \n",
       "\n",
       "                                              thumb  \n",
       "0  https://i.ytimg.com/vi/himPDfPrIXY/mqdefault.jpg  "
      ]
     },
     "execution_count": 10,
     "metadata": {},
     "output_type": "execute_result"
    }
   ],
   "source": [
    "data.head(1)"
   ]
  },
  {
   "cell_type": "code",
   "execution_count": 11,
   "id": "55bafc71",
   "metadata": {},
   "outputs": [
    {
     "data": {
      "text/html": [
       "<div>\n",
       "<style scoped>\n",
       "    .dataframe tbody tr th:only-of-type {\n",
       "        vertical-align: middle;\n",
       "    }\n",
       "\n",
       "    .dataframe tbody tr th {\n",
       "        vertical-align: top;\n",
       "    }\n",
       "\n",
       "    .dataframe thead th {\n",
       "        text-align: right;\n",
       "    }\n",
       "</style>\n",
       "<table border=\"1\" class=\"dataframe\">\n",
       "  <thead>\n",
       "    <tr style=\"text-align: right;\">\n",
       "      <th></th>\n",
       "      <th>index</th>\n",
       "      <th>publishedAt</th>\n",
       "      <th>channelId</th>\n",
       "      <th>title</th>\n",
       "      <th>channelTitle</th>\n",
       "      <th>OnSearching</th>\n",
       "      <th>videoId</th>\n",
       "      <th>thumb</th>\n",
       "    </tr>\n",
       "  </thead>\n",
       "  <tbody>\n",
       "    <tr>\n",
       "      <th>0</th>\n",
       "      <td>0</td>\n",
       "      <td>2022-10-10T16:48:30Z</td>\n",
       "      <td>UCLuBF4Xr1-BIpcpFFm7zp7w</td>\n",
       "      <td>6 month current affair | import question | kum...</td>\n",
       "      <td>UTKARSH CLASSES JODHPUR</td>\n",
       "      <td>current affairs</td>\n",
       "      <td>himPDfPrIXY</td>\n",
       "      <td>https://i.ytimg.com/vi/himPDfPrIXY/mqdefault.jpg</td>\n",
       "    </tr>\n",
       "    <tr>\n",
       "      <th>1</th>\n",
       "      <td>1</td>\n",
       "      <td>2022-10-04T16:19:33Z</td>\n",
       "      <td>V-LJK076Cdk</td>\n",
       "      <td>current affair + gener knowledg impt. question...</td>\n",
       "      <td>Study iq</td>\n",
       "      <td>current affairs</td>\n",
       "      <td>V-LJK076Cdk</td>\n",
       "      <td>https://i.ytimg.com/vi/V-LJK076Cdk/mqdefault.jpg</td>\n",
       "    </tr>\n",
       "    <tr>\n",
       "      <th>2</th>\n",
       "      <td>2</td>\n",
       "      <td>2022-10-03T16:19:52Z</td>\n",
       "      <td>o_MTnVvXxwc</td>\n",
       "      <td>current affair gener knowledg import questions...</td>\n",
       "      <td>Study Glow</td>\n",
       "      <td>current affairs</td>\n",
       "      <td>o_MTnVvXxwc</td>\n",
       "      <td>https://i.ytimg.com/vi/o_MTnVvXxwc/mqdefault.jpg</td>\n",
       "    </tr>\n",
       "    <tr>\n",
       "      <th>3</th>\n",
       "      <td>3</td>\n",
       "      <td>2022-09-19T02:25:16Z</td>\n",
       "      <td>7_2eXFW_Mgl</td>\n",
       "      <td>19 septemb | daili current affair (961)| impor...</td>\n",
       "      <td>Study Glow</td>\n",
       "      <td>current affairs</td>\n",
       "      <td>o_MTnVvXxwc</td>\n",
       "      <td>https://i.ytimg.com/vi/o_MTnVvXxwc/mqdefault.jpg</td>\n",
       "    </tr>\n",
       "    <tr>\n",
       "      <th>4</th>\n",
       "      <td>4</td>\n",
       "      <td>2022-09-16T02:13:54Z</td>\n",
       "      <td>UCLuBF4Xr1-BIpcpFFm7zp7w</td>\n",
       "      <td>16 septemb | daili current affair (959)| impt....</td>\n",
       "      <td>UTKARSH CLASSES JODHPUR</td>\n",
       "      <td>current affairs</td>\n",
       "      <td>wE3CM9bwrXI</td>\n",
       "      <td>https://i.ytimg.com/vi/wE3CM9bwrXI/mqdefault.jpg</td>\n",
       "    </tr>\n",
       "    <tr>\n",
       "      <th>...</th>\n",
       "      <td>...</td>\n",
       "      <td>...</td>\n",
       "      <td>...</td>\n",
       "      <td>...</td>\n",
       "      <td>...</td>\n",
       "      <td>...</td>\n",
       "      <td>...</td>\n",
       "      <td>...</td>\n",
       "    </tr>\n",
       "    <tr>\n",
       "      <th>171</th>\n",
       "      <td>172</td>\n",
       "      <td>1y</td>\n",
       "      <td>A-QgGXbDyR0</td>\n",
       "      <td>ted riddl</td>\n",
       "      <td>TED-ED</td>\n",
       "      <td>ted</td>\n",
       "      <td>A-QgGXbDyR0</td>\n",
       "      <td>https://i.ytimg.com/vi/A-QgGXbDyR0/mqdefault.jpg</td>\n",
       "    </tr>\n",
       "    <tr>\n",
       "      <th>172</th>\n",
       "      <td>173</td>\n",
       "      <td>1y</td>\n",
       "      <td>Pk9xbVKugjE</td>\n",
       "      <td>you are superhero ted</td>\n",
       "      <td>TED-Talks</td>\n",
       "      <td>ted</td>\n",
       "      <td>Pk9xbVKugjE</td>\n",
       "      <td>https://i.ytimg.com/vi/Pk9xbVKugjE/mqdefault.jpg</td>\n",
       "    </tr>\n",
       "    <tr>\n",
       "      <th>173</th>\n",
       "      <td>174</td>\n",
       "      <td>1y</td>\n",
       "      <td>CyXqnaODBaA</td>\n",
       "      <td>upsc interview experi |ted</td>\n",
       "      <td>Josh-talks</td>\n",
       "      <td>ted</td>\n",
       "      <td>CyXqnaODBaA</td>\n",
       "      <td>https://i.ytimg.com/vi/CyXqnaODBaA/mqdefault.jpg</td>\n",
       "    </tr>\n",
       "    <tr>\n",
       "      <th>174</th>\n",
       "      <td>175</td>\n",
       "      <td>1y</td>\n",
       "      <td>fJBIEPOj4Fk</td>\n",
       "      <td>great pyramid of giza | ted</td>\n",
       "      <td>TED-ED</td>\n",
       "      <td>ted</td>\n",
       "      <td>fJBIEPOj4Fk</td>\n",
       "      <td>https://i.ytimg.com/vi/fJBIEPOj4Fk/mqdefault.jpg</td>\n",
       "    </tr>\n",
       "    <tr>\n",
       "      <th>175</th>\n",
       "      <td>176</td>\n",
       "      <td>1y</td>\n",
       "      <td>fJBIEPOj4Fk</td>\n",
       "      <td>great pyramid of giza | ted</td>\n",
       "      <td>TED-ED</td>\n",
       "      <td>ted</td>\n",
       "      <td>fJBIEPOj4Fk</td>\n",
       "      <td>https://i.ytimg.com/vi/fJBIEPOj4Fk/mqdefault.jpg</td>\n",
       "    </tr>\n",
       "  </tbody>\n",
       "</table>\n",
       "<p>176 rows × 8 columns</p>\n",
       "</div>"
      ],
      "text/plain": [
       "     index           publishedAt                 channelId  \\\n",
       "0        0  2022-10-10T16:48:30Z  UCLuBF4Xr1-BIpcpFFm7zp7w   \n",
       "1        1  2022-10-04T16:19:33Z               V-LJK076Cdk   \n",
       "2        2  2022-10-03T16:19:52Z               o_MTnVvXxwc   \n",
       "3        3  2022-09-19T02:25:16Z               7_2eXFW_Mgl   \n",
       "4        4  2022-09-16T02:13:54Z  UCLuBF4Xr1-BIpcpFFm7zp7w   \n",
       "..     ...                   ...                       ...   \n",
       "171    172                    1y               A-QgGXbDyR0   \n",
       "172    173                    1y               Pk9xbVKugjE   \n",
       "173    174                    1y               CyXqnaODBaA   \n",
       "174    175                    1y               fJBIEPOj4Fk   \n",
       "175    176                    1y               fJBIEPOj4Fk   \n",
       "\n",
       "                                                 title  \\\n",
       "0    6 month current affair | import question | kum...   \n",
       "1    current affair + gener knowledg impt. question...   \n",
       "2    current affair gener knowledg import questions...   \n",
       "3    19 septemb | daili current affair (961)| impor...   \n",
       "4    16 septemb | daili current affair (959)| impt....   \n",
       "..                                                 ...   \n",
       "171                                          ted riddl   \n",
       "172                              you are superhero ted   \n",
       "173                         upsc interview experi |ted   \n",
       "174                        great pyramid of giza | ted   \n",
       "175                        great pyramid of giza | ted   \n",
       "\n",
       "                channelTitle      OnSearching      videoId  \\\n",
       "0    UTKARSH CLASSES JODHPUR  current affairs  himPDfPrIXY   \n",
       "1                   Study iq  current affairs  V-LJK076Cdk   \n",
       "2                 Study Glow  current affairs  o_MTnVvXxwc   \n",
       "3                 Study Glow  current affairs  o_MTnVvXxwc   \n",
       "4    UTKARSH CLASSES JODHPUR  current affairs  wE3CM9bwrXI   \n",
       "..                       ...              ...          ...   \n",
       "171                   TED-ED              ted  A-QgGXbDyR0   \n",
       "172                TED-Talks              ted  Pk9xbVKugjE   \n",
       "173               Josh-talks              ted  CyXqnaODBaA   \n",
       "174                   TED-ED              ted  fJBIEPOj4Fk   \n",
       "175                   TED-ED              ted  fJBIEPOj4Fk   \n",
       "\n",
       "                                                thumb  \n",
       "0    https://i.ytimg.com/vi/himPDfPrIXY/mqdefault.jpg  \n",
       "1    https://i.ytimg.com/vi/V-LJK076Cdk/mqdefault.jpg  \n",
       "2    https://i.ytimg.com/vi/o_MTnVvXxwc/mqdefault.jpg  \n",
       "3    https://i.ytimg.com/vi/o_MTnVvXxwc/mqdefault.jpg  \n",
       "4    https://i.ytimg.com/vi/wE3CM9bwrXI/mqdefault.jpg  \n",
       "..                                                ...  \n",
       "171  https://i.ytimg.com/vi/A-QgGXbDyR0/mqdefault.jpg  \n",
       "172  https://i.ytimg.com/vi/Pk9xbVKugjE/mqdefault.jpg  \n",
       "173  https://i.ytimg.com/vi/CyXqnaODBaA/mqdefault.jpg  \n",
       "174  https://i.ytimg.com/vi/fJBIEPOj4Fk/mqdefault.jpg  \n",
       "175  https://i.ytimg.com/vi/fJBIEPOj4Fk/mqdefault.jpg  \n",
       "\n",
       "[176 rows x 8 columns]"
      ]
     },
     "execution_count": 11,
     "metadata": {},
     "output_type": "execute_result"
    }
   ],
   "source": [
    "data['title']=data['title'].apply(lambda x:x.lower())\n",
    "data['OnSearching']=data['OnSearching'].apply(lambda x:x.lower())\n",
    "data"
   ]
  },
  {
   "cell_type": "code",
   "execution_count": 12,
   "id": "3ffcd28d",
   "metadata": {},
   "outputs": [
    {
     "data": {
      "text/plain": [
       "(176, 8)"
      ]
     },
     "execution_count": 12,
     "metadata": {},
     "output_type": "execute_result"
    }
   ],
   "source": [
    " data.shape"
   ]
  },
  {
   "cell_type": "code",
   "execution_count": 13,
   "id": "c583ed34",
   "metadata": {},
   "outputs": [
    {
     "data": {
      "text/plain": [
       "index           0\n",
       "publishedAt     0\n",
       "channelId       0\n",
       "title           0\n",
       "channelTitle    0\n",
       "OnSearching     0\n",
       "videoId         0\n",
       "thumb           0\n",
       "dtype: int64"
      ]
     },
     "execution_count": 13,
     "metadata": {},
     "output_type": "execute_result"
    }
   ],
   "source": [
    "data.isnull().sum()"
   ]
  },
  {
   "cell_type": "code",
   "execution_count": 14,
   "id": "37da5dde",
   "metadata": {},
   "outputs": [
    {
     "data": {
      "text/plain": [
       "'6 month current affair | import question | kumar gaurav sir'"
      ]
     },
     "execution_count": 14,
     "metadata": {},
     "output_type": "execute_result"
    }
   ],
   "source": [
    "data.title[0]"
   ]
  },
  {
   "cell_type": "code",
   "execution_count": 15,
   "id": "4a81ad50",
   "metadata": {},
   "outputs": [
    {
     "data": {
      "text/plain": [
       "'dsa roadmap'"
      ]
     },
     "execution_count": 15,
     "metadata": {},
     "output_type": "execute_result"
    }
   ],
   "source": [
    "data['OnSearching'].apply(lambda x:x.split(\",\"))\n",
    "data['OnSearching'][59]"
   ]
  },
  {
   "cell_type": "markdown",
   "id": "63b0ccb6",
   "metadata": {},
   "source": [
    "# Text vectorization\n",
    "### Through BagofWords"
   ]
  },
  {
   "cell_type": "code",
   "execution_count": 16,
   "id": "42be4ff8",
   "metadata": {},
   "outputs": [],
   "source": [
    "from sklearn.feature_extraction.text import CountVectorizer\n",
    "cv= CountVectorizer(max_features=155,stop_words='english')"
   ]
  },
  {
   "cell_type": "code",
   "execution_count": 17,
   "id": "aa49a194",
   "metadata": {},
   "outputs": [
    {
     "data": {
      "text/plain": [
       "array([[0, 0, 0, ..., 0, 0, 0],\n",
       "       [0, 0, 0, ..., 0, 0, 0],\n",
       "       [0, 0, 0, ..., 0, 0, 0],\n",
       "       ...,\n",
       "       [0, 0, 0, ..., 0, 0, 0],\n",
       "       [0, 0, 0, ..., 0, 0, 0],\n",
       "       [0, 0, 0, ..., 0, 0, 0]], dtype=int64)"
      ]
     },
     "execution_count": 17,
     "metadata": {},
     "output_type": "execute_result"
    }
   ],
   "source": [
    "vector=cv.fit_transform(data['title']).toarray()\n",
    "vector"
   ]
  },
  {
   "cell_type": "code",
   "execution_count": 18,
   "id": "5fbbb0ba",
   "metadata": {},
   "outputs": [
    {
     "name": "stderr",
     "output_type": "stream",
     "text": [
      "C:\\Users\\adesh\\anaconda3\\lib\\site-packages\\sklearn\\utils\\deprecation.py:87: FutureWarning: Function get_feature_names is deprecated; get_feature_names is deprecated in 1.0 and will be removed in 1.2. Please use get_feature_names_out instead.\n",
      "  warnings.warn(msg, category=FutureWarning)\n"
     ]
    },
    {
     "data": {
      "text/plain": [
       "['01',\n",
       " '10',\n",
       " '11',\n",
       " '12',\n",
       " '2021',\n",
       " '2022',\n",
       " '2023',\n",
       " '21',\n",
       " '30',\n",
       " '39',\n",
       " 'abhishek',\n",
       " 'account',\n",
       " 'ad',\n",
       " 'advanc',\n",
       " 'affair',\n",
       " 'agraw',\n",
       " 'amazon',\n",
       " 'amp',\n",
       " 'apni',\n",
       " 'basic',\n",
       " 'beginn',\n",
       " 'best',\n",
       " 'bhagawad',\n",
       " 'big',\n",
       " 'board',\n",
       " 'campu',\n",
       " 'cbse',\n",
       " 'chapter',\n",
       " 'class',\n",
       " 'code',\n",
       " 'colleg',\n",
       " 'complet',\n",
       " 'concept',\n",
       " 'continu',\n",
       " 'cours',\n",
       " 'crash',\n",
       " 'current',\n",
       " 'daili',\n",
       " 'data',\n",
       " 'day',\n",
       " 'deriv',\n",
       " 'develop',\n",
       " 'differenti',\n",
       " 'edureka',\n",
       " 'engin',\n",
       " 'english',\n",
       " 'exam',\n",
       " 'experi',\n",
       " 'explain',\n",
       " 'free',\n",
       " 'ft',\n",
       " 'function',\n",
       " 'gaurav',\n",
       " 'giza',\n",
       " 'googl',\n",
       " 'grade',\n",
       " 'gravit',\n",
       " 'great',\n",
       " 'guarante',\n",
       " 'guid',\n",
       " 'hack',\n",
       " 'hai',\n",
       " 'hindi',\n",
       " 'hour',\n",
       " 'hsc',\n",
       " 'hseb',\n",
       " 'html',\n",
       " 'iit',\n",
       " 'import',\n",
       " 'impt',\n",
       " 'india',\n",
       " 'instal',\n",
       " 'integr',\n",
       " 'introduct',\n",
       " 'jaano',\n",
       " 'java',\n",
       " 'joe',\n",
       " 'kaksha',\n",
       " 'kumar',\n",
       " 'languag',\n",
       " 'law',\n",
       " 'learn',\n",
       " 'lectur',\n",
       " 'level',\n",
       " 'live',\n",
       " 'mark',\n",
       " 'math',\n",
       " 'mayur',\n",
       " 'mazaayega',\n",
       " 'minut',\n",
       " 'month',\n",
       " 'motion',\n",
       " 'nda',\n",
       " 'neb',\n",
       " 'neet',\n",
       " 'neha',\n",
       " 'nepali',\n",
       " 'new',\n",
       " 'note',\n",
       " 'onlin',\n",
       " 'online',\n",
       " 'paper',\n",
       " 'physic',\n",
       " 'placement',\n",
       " 'practic',\n",
       " 'prepar',\n",
       " 'professor',\n",
       " 'program',\n",
       " 'puzzl',\n",
       " 'pyramid',\n",
       " 'python',\n",
       " 'question',\n",
       " 'questions',\n",
       " 'ranveer',\n",
       " 'relat',\n",
       " 'revis',\n",
       " 'riddl',\n",
       " 'roadmap',\n",
       " 'rogan',\n",
       " 'samajhayega',\n",
       " 'science',\n",
       " 'sept',\n",
       " 'sheet',\n",
       " 'shiva',\n",
       " 'short',\n",
       " 'shot',\n",
       " 'sir',\n",
       " 'skill',\n",
       " 'sleep',\n",
       " 'softwar',\n",
       " 'speak',\n",
       " 'spoken',\n",
       " 'step',\n",
       " 'strategi',\n",
       " 'structur',\n",
       " 'student',\n",
       " 'superhero',\n",
       " 'sushant',\n",
       " 'syllabu',\n",
       " 'talk',\n",
       " 'tamil',\n",
       " 'teacher',\n",
       " 'ted',\n",
       " 'term',\n",
       " 'trigonometri',\n",
       " 'tutori',\n",
       " 'tutorial',\n",
       " 'use',\n",
       " 'vector',\n",
       " 'vedantu',\n",
       " 'video',\n",
       " 'web',\n",
       " 'websit',\n",
       " 'work',\n",
       " 'year']"
      ]
     },
     "execution_count": 18,
     "metadata": {},
     "output_type": "execute_result"
    }
   ],
   "source": [
    "cv.get_feature_names()"
   ]
  },
  {
   "cell_type": "code",
   "execution_count": 19,
   "id": "ba1ff68c",
   "metadata": {},
   "outputs": [],
   "source": [
    "#We will find cosine distance here because euclidian distance is not reliable in large amount of dataset"
   ]
  },
  {
   "cell_type": "code",
   "execution_count": 20,
   "id": "f0c111fc",
   "metadata": {},
   "outputs": [
    {
     "data": {
      "text/plain": [
       "array([[1.        , 0.80178373, 0.80178373, ..., 0.        , 0.        ,\n",
       "        0.        ],\n",
       "       [0.80178373, 1.        , 0.71428571, ..., 0.        , 0.        ,\n",
       "        0.        ],\n",
       "       [0.80178373, 0.71428571, 1.        , ..., 0.        , 0.        ,\n",
       "        0.        ],\n",
       "       ...,\n",
       "       [0.        , 0.        , 0.        , ..., 1.        , 0.35355339,\n",
       "        0.35355339],\n",
       "       [0.        , 0.        , 0.        , ..., 0.35355339, 1.        ,\n",
       "        1.        ],\n",
       "       [0.        , 0.        , 0.        , ..., 0.35355339, 1.        ,\n",
       "        1.        ]])"
      ]
     },
     "execution_count": 20,
     "metadata": {},
     "output_type": "execute_result"
    }
   ],
   "source": [
    "from sklearn.metrics.pairwise import cosine_similarity\n",
    "similarity=cosine_similarity(vector)\n",
    "similarity"
   ]
  },
  {
   "cell_type": "code",
   "execution_count": 21,
   "id": "e2ec1bb7",
   "metadata": {},
   "outputs": [
    {
     "data": {
      "text/plain": [
       "(176, 176)"
      ]
     },
     "execution_count": 21,
     "metadata": {},
     "output_type": "execute_result"
    }
   ],
   "source": [
    "cosine_similarity(vector).shape"
   ]
  },
  {
   "cell_type": "code",
   "execution_count": 22,
   "id": "502abeef",
   "metadata": {},
   "outputs": [
    {
     "data": {
      "text/html": [
       "<div>\n",
       "<style scoped>\n",
       "    .dataframe tbody tr th:only-of-type {\n",
       "        vertical-align: middle;\n",
       "    }\n",
       "\n",
       "    .dataframe tbody tr th {\n",
       "        vertical-align: top;\n",
       "    }\n",
       "\n",
       "    .dataframe thead th {\n",
       "        text-align: right;\n",
       "    }\n",
       "</style>\n",
       "<table border=\"1\" class=\"dataframe\">\n",
       "  <thead>\n",
       "    <tr style=\"text-align: right;\">\n",
       "      <th></th>\n",
       "      <th>index</th>\n",
       "      <th>publishedAt</th>\n",
       "      <th>channelId</th>\n",
       "      <th>title</th>\n",
       "      <th>channelTitle</th>\n",
       "      <th>OnSearching</th>\n",
       "      <th>videoId</th>\n",
       "      <th>thumb</th>\n",
       "    </tr>\n",
       "  </thead>\n",
       "  <tbody>\n",
       "    <tr>\n",
       "      <th>0</th>\n",
       "      <td>0</td>\n",
       "      <td>2022-10-10T16:48:30Z</td>\n",
       "      <td>UCLuBF4Xr1-BIpcpFFm7zp7w</td>\n",
       "      <td>6 month current affair | import question | kum...</td>\n",
       "      <td>UTKARSH CLASSES JODHPUR</td>\n",
       "      <td>current affairs</td>\n",
       "      <td>himPDfPrIXY</td>\n",
       "      <td>https://i.ytimg.com/vi/himPDfPrIXY/mqdefault.jpg</td>\n",
       "    </tr>\n",
       "  </tbody>\n",
       "</table>\n",
       "</div>"
      ],
      "text/plain": [
       "   index           publishedAt                 channelId  \\\n",
       "0      0  2022-10-10T16:48:30Z  UCLuBF4Xr1-BIpcpFFm7zp7w   \n",
       "\n",
       "                                               title             channelTitle  \\\n",
       "0  6 month current affair | import question | kum...  UTKARSH CLASSES JODHPUR   \n",
       "\n",
       "       OnSearching      videoId  \\\n",
       "0  current affairs  himPDfPrIXY   \n",
       "\n",
       "                                              thumb  \n",
       "0  https://i.ytimg.com/vi/himPDfPrIXY/mqdefault.jpg  "
      ]
     },
     "execution_count": 22,
     "metadata": {},
     "output_type": "execute_result"
    }
   ],
   "source": [
    "data.head(1)"
   ]
  },
  {
   "cell_type": "code",
   "execution_count": 23,
   "id": "2c602e1c",
   "metadata": {},
   "outputs": [],
   "source": [
    "def recommend(OnSearch):\n",
    "    video_index=data[data['OnSearching']==OnSearch].index[0]\n",
    "    distances = similarity[video_index]\n",
    "    video_list= sorted(list(enumerate(distances)),reverse=True,key=lambda x:x[1])[1:6]\n",
    "    for i in video_list:\n",
    "        print(data.iloc[i[0]].channelTitle)\n"
   ]
  },
  {
   "cell_type": "code",
   "execution_count": 24,
   "id": "0e29b0b3",
   "metadata": {
    "scrolled": true
   },
   "outputs": [
    {
     "name": "stdout",
     "output_type": "stream",
     "text": [
      "TED-ED\n",
      "TED-Talks\n",
      "Josh-talks\n",
      "TED-Talks\n",
      "Josh-talks\n"
     ]
    }
   ],
   "source": [
    "recommend('ted')"
   ]
  },
  {
   "cell_type": "code",
   "execution_count": 25,
   "id": "cfb27194",
   "metadata": {},
   "outputs": [
    {
     "name": "stdout",
     "output_type": "stream",
     "text": [
      "Ranveer Allahbadia\n",
      "Ranveer Allahbadia\n",
      "Ranveer Allahbadia\n",
      "Apna College\n",
      "Beerbiceps\n"
     ]
    }
   ],
   "source": [
    "recommend('podcast')"
   ]
  },
  {
   "cell_type": "code",
   "execution_count": 26,
   "id": "11be5abd",
   "metadata": {},
   "outputs": [],
   "source": [
    "import pickle\n",
    "pickle.dump(data.to_dict(),open('Ytvideoes2.pkl','wb'))"
   ]
  },
  {
   "cell_type": "code",
   "execution_count": 27,
   "id": "74cc2350",
   "metadata": {},
   "outputs": [],
   "source": [
    "pickle.dump(similarity,open('similarity.pkl','wb'))"
   ]
  }
 ],
 "metadata": {
  "kernelspec": {
   "display_name": "Python 3 (ipykernel)",
   "language": "python",
   "name": "python3"
  },
  "language_info": {
   "codemirror_mode": {
    "name": "ipython",
    "version": 3
   },
   "file_extension": ".py",
   "mimetype": "text/x-python",
   "name": "python",
   "nbconvert_exporter": "python",
   "pygments_lexer": "ipython3",
   "version": "3.9.12"
  }
 },
 "nbformat": 4,
 "nbformat_minor": 5
}
